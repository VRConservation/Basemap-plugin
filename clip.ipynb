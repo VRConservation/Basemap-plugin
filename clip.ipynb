{
 "cells": [
  {
   "cell_type": "code",
   "execution_count": 2,
   "metadata": {},
   "outputs": [
    {
     "name": "stdout",
     "output_type": "stream",
     "text": [
      "C:/Users/vance/Downloads/pyqgis_masterclass/srtm.tif\n",
      "C:/Users/vance/Downloads/pyqgis_masterclass/shoreline.shp\n"
     ]
    }
   ],
   "source": [
    "srtm = 'C:/Users/vance/Downloads/pyqgis_masterclass/srtm.tif'\n",
    "shoreline = 'C:/Users/vance/Downloads/pyqgis_masterclass/shoreline.shp'\n",
    "\n",
    "print(srtm)\n",
    "print(shoreline)"
   ]
  },
  {
   "cell_type": "code",
   "execution_count": null,
   "metadata": {},
   "outputs": [],
   "source": [
    "processing.run(\"gdal:cliprasterbymasklayer\", {'INPUT': 'C:/Users/vance/Downloads/change.tif','MASK':'AOI_new.shp','SOURCE_CRS':None,'TARGET_CRS':None,'TARGET_EXTENT':None,'NODATA':None,'ALPHA_BAND':True,'CROP_TO_CUTLINE':True,'KEEP_RESOLUTION':False,'SET_RESOLUTION':False,'X_RESOLUTION':None,'Y_RESOLUTION':None,'MULTITHREADING':False,'OPTIONS':None,'DATA_TYPE':0,'EXTRA':'','OUTPUT':'TEMPORARY_OUTPUT'})"
   ]
  }
 ],
 "metadata": {
  "kernelspec": {
   "display_name": "spatial",
   "language": "python",
   "name": "python3"
  },
  "language_info": {
   "codemirror_mode": {
    "name": "ipython",
    "version": 3
   },
   "file_extension": ".py",
   "mimetype": "text/x-python",
   "name": "python",
   "nbconvert_exporter": "python",
   "pygments_lexer": "ipython3",
   "version": "3.12.4"
  }
 },
 "nbformat": 4,
 "nbformat_minor": 2
}
